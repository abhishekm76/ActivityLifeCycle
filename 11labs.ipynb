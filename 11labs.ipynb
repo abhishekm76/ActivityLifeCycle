{
  "nbformat": 4,
  "nbformat_minor": 0,
  "metadata": {
    "colab": {
      "provenance": [],
      "authorship_tag": "ABX9TyOCDL1EcoKPjhETy5XKBIdN",
      "include_colab_link": true
    },
    "kernelspec": {
      "name": "python3",
      "display_name": "Python 3"
    },
    "language_info": {
      "name": "python"
    }
  },
  "cells": [
    {
      "cell_type": "markdown",
      "metadata": {
        "id": "view-in-github",
        "colab_type": "text"
      },
      "source": [
        "<a href=\"https://colab.research.google.com/github/abhishekm76/ActivityLifeCycle/blob/master/11labs.ipynb\" target=\"_parent\"><img src=\"https://colab.research.google.com/assets/colab-badge.svg\" alt=\"Open In Colab\"/></a>"
      ]
    },
    {
      "cell_type": "code",
      "execution_count": null,
      "metadata": {
        "id": "iKzvS6ka7XWw"
      },
      "outputs": [],
      "source": [
        "pip install elevenlabs #this will install the library for using 11 labs"
      ]
    },
    {
      "cell_type": "code",
      "source": [
        "from elevenlabs import set_api_key #this section will take your API key from eleven labs and use it to authenticate the user.\n",
        "from google.colab import userdata\n",
        "key=userdata.get('11api_key') # For security this refrences your secret API key, which you can add by clicking on the key symbol on the left margin. make sure the key is named \"11ap_key\" and in the value column put in your individual API key\n",
        "set_api_key(key)"
      ],
      "metadata": {
        "id": "TQtnQbn12i0Q"
      },
      "execution_count": null,
      "outputs": []
    },
    {
      "cell_type": "code",
      "source": [
        "from elevenlabs import generate, play,save,Voice, VoiceSettings\n",
        "#this section will take the input file - a text file named 'Input.txt' and reads it, combines upto 3 lines and then send it to eleven labs to get the audio which it saves as a new file\n",
        "\n",
        "with open('Input.txt', encoding='utf8') as f: #this is the input file name - plain text file\n",
        "    count =0\n",
        "    filecount=1\n",
        "    query=\"\"\n",
        "    for line in f:\n",
        "        count = count+1\n",
        "        query = query+line\n",
        "        if count>=3:\n",
        "          audio = generate ( #this sends the text to 11 labs to get the audio\n",
        "              text=query,\n",
        "              model=\"eleven_multilingual_v2\",\n",
        "              voice=Voice(\n",
        "                    voice_id='21m00Tcm4TlvDq8ikWAM', #this is the voice ID you want to use\n",
        "                    settings=VoiceSettings(stability=0.50, similarity_boost=0.75, style=0.0, use_speaker_boost=True)\n",
        "                )\n",
        "            )\n",
        "          savefile = \"OutputAudio \"+str(filecount)+\".wav\" #creates the file name to save the audio\n",
        "          save(audio,savefile) #saves the audio file from 11 labs\n",
        "          filecount = filecount+1\n",
        "\n",
        "          print(query) #print the text that was sent to the screen\n",
        "          count =0\n",
        "          query=\"\"\n",
        "    audio = generate ( #generates audio for the last segment\n",
        "              text=query,\n",
        "              model=\"eleven_multilingual_v2\",\n",
        "              voice=Voice(\n",
        "                    voice_id='21m00Tcm4TlvDq8ikWAM',\n",
        "                    settings=VoiceSettings(stability=0.50, similarity_boost=0.75, style=0.0, use_speaker_boost=True)\n",
        "                )\n",
        "            )\n",
        "\n",
        "savefile = \"OutputAudio \"+str(filecount)+\".wav\" #creates the file name to save the audio\n",
        "save(audio,savefile) #saves the audio file from 11 labs\n",
        "filecount = filecount+1\n",
        "\n",
        "f.close() # closes the text file\n",
        "\n",
        "\n",
        "\n",
        "\n",
        "\n"
      ],
      "metadata": {
        "id": "OBqQkZTkDXGn"
      },
      "execution_count": null,
      "outputs": []
    },
    {
      "cell_type": "code",
      "source": [
        "with open('Drona.txt', encoding='utf8') as f:\n",
        "    count =0\n",
        "    query=\"\"\n",
        "    for line in f:\n",
        "        count = count+1\n",
        "        query = query+line\n",
        "        if count>=3:\n",
        "          print(query)\n",
        "          count =0\n",
        "          query=\"\"\n",
        "    print(query)\n",
        "f.close()"
      ],
      "metadata": {
        "colab": {
          "base_uri": "https://localhost:8080/"
        },
        "id": "VrvC9Kx-AGYD",
        "outputId": "3754e9f2-6bd2-4a94-9a3d-bd190cbf2121"
      },
      "execution_count": null,
      "outputs": [
        {
          "output_type": "stream",
          "name": "stdout",
          "text": [
            "द्रोणाचार्य was the son of a sage named भरद्वाज, who was a descendant of the great sage अंगिरस. He was born in a pot, after his father saw a beautiful nymph named घृताची and his seed fell into a vessel. That's why his name was द्रोणा, which means \"vessel\" or \"bucket\" in Sanskrit.\n",
            "\n",
            "द्रोणा grew up to be a brilliant scholar and a master of archery. He learned the secrets of the divine weapons, or अस्त्रस, from his father's disciple, अग्निवेश, and from the sage परशुराम, who was an avatar of भगवान विष्णु.\n",
            "\n",
            "\n",
            "द्रोणा had a childhood friend named द्रुपद, who was the prince of पांचाला. They studied together under भरद्वाज, and द्रुपद promised to share his wealth and kingdom with द्रोणा when he became king. But द्रुपद forgot his promise, and insulted द्रोणा when he came to his palace as a poor man. द्रोणा felt humiliated and vowed to take revenge.\n",
            "\n",
            "\n",
            "द्रोणा then went to हस्तिनापुर, where he met the कुरु princes, the पांडवस and the कौरवस. He offered to teach them the art of warfare, and impressed them with his skills. He became their royal teacher, and trained them in various weapons and strategies. He was especially fond of अर्जुन, the third पांडव, who was the most talented and dedicated of his students.\n",
            "\n",
            "द्रोणा also had a son named अश्वत्थामा, who was his pride and joy. अश्वत्थामा was born with a gem on his forehead, which gave him extraordinary powers. He was also a friend of दुर्योधन, the eldest कौरव, who was jealous of the पांडवस and wanted to destroy them.\n",
            "\n",
            "\n",
            "After द्रोणा completed the formal training of the कुरु princes, he demanded that they invade पांचाला and bring him द्रुपद as their गुरुदक्षिणा. अर्जुन succeeds in defeating द्रुपद and brings the captured king to द्रोणा. द्रोणा reminds द्रुपद about their days of friendship and his false promise before taking away half of the पांचाला kingdom. द्रोणा would make अश्वत्थामा the king of the annexed half of the पांचाला kingdom. This action would lead द्रुपद to perform a sacrificial यज्ञ in order to beget a son who would kill द्रोणा. The sages उपयाज and यज helped him to beget such a son धृष्टद्युम्न. The sacrificial fire also yielded a daughter, द्रौपदी.\n",
            "\n",
            "\n",
            "During the महाभारत war, though द्रोणा strongly condemned दुर्योधन exiling the पांडव, as well as the कौरव' general abuse towards the पांडव. But being a servant of हस्तिनापुर, द्रोणा was duty-bound to fight for the कौरव, and thus against his favorite पांडव\n",
            "\n",
            "On the 15th day of the war, द्रोणा and his son अश्वत्थामा unleashed havoc upon the entire पांडव army killing many पांडव soldiers. Knowing it would be impossible to defeat an armed द्रोणा that day since अर्जुन refuses to kill his guru, कृष्ण suggests a plan to disarm द्रोणा. भीम kills an elephant named अश्वत्थामा, and then claims to द्रोणा that he has killed his son. Disbelieving his claim, द्रोणा approached युधिष्ठिर, knowing of युधिष्ठिर's firm adherence to धर्म and honesty. When द्रोणा asked for the truth, युधिष्ठिर responded with \"अश्वत्थामा is dead, the elephant.\" Adding the word elephant indistinctly so that द्रोणा could not hear it.\n",
            "\n",
            "\n",
            "Then द्रोणा descended from his chariot, laid down his arms and sat on the ground in meditation to find his son's soul. The पांडवस wanted to use this opportunity to arrest him, but enraged by the death of his father and several पांचाला  warriors, धृष्टद्युम्न took this opportunity and beheads him, in a gross violation of the rules of war. अर्जुन would condemn धृष्टद्युम्न for this act.\n"
          ]
        }
      ]
    },
    {
      "cell_type": "code",
      "source": [
        "from elevenlabs import voices, generate\n",
        "\n",
        "voices = voices()\n",
        "audio = generate(text=\"Hello there!\", voice=voices[0])\n",
        "print(voices)"
      ],
      "metadata": {
        "colab": {
          "base_uri": "https://localhost:8080/"
        },
        "id": "jJif0B_Re442",
        "outputId": "dd307829-cfbc-4f56-d4c4-09055743ba6d"
      },
      "execution_count": null,
      "outputs": [
        {
          "output_type": "stream",
          "name": "stdout",
          "text": [
            "voices=[Voice(voice_id='21m00Tcm4TlvDq8ikWAM', name='Rachel', category='premade', description=None, labels={'accent': 'american', 'description': 'calm', 'age': 'young', 'gender': 'female', 'use case': 'narration'}, samples=None, design=None, preview_url='https://storage.googleapis.com/eleven-public-prod/premade/voices/21m00Tcm4TlvDq8ikWAM/df6788f9-5c96-470d-8312-aab3b3d8f50a.mp3', settings=None), Voice(voice_id='29vD33N1CtxCmqQRPOHJ', name='Drew', category='premade', description=None, labels={'accent': 'american', 'description': 'well-rounded', 'age': 'middle aged', 'gender': 'male', 'use case': 'news'}, samples=None, design=None, preview_url='https://storage.googleapis.com/eleven-public-prod/premade/voices/29vD33N1CtxCmqQRPOHJ/e8b52a3f-9732-440f-b78a-16d5e26407a1.mp3', settings=None), Voice(voice_id='2EiwWnXFnvU5JabPnv8n', name='Clyde', category='premade', description=None, labels={'accent': 'american', 'description': 'war veteran', 'age': 'middle aged', 'gender': 'male', 'use case': 'video games'}, samples=None, design=None, preview_url='https://storage.googleapis.com/eleven-public-prod/premade/voices/2EiwWnXFnvU5JabPnv8n/65d80f52-703f-4cae-a91d-75d4e200ed02.mp3', settings=None), Voice(voice_id='5Q0t7uMcjvnagumLfvZi', name='Paul', category='premade', description=None, labels={'accent': 'american', 'description': 'ground reporter', 'age': 'middle aged', 'gender': 'male', 'use case': 'news'}, samples=None, design=None, preview_url='https://storage.googleapis.com/eleven-public-prod/premade/voices/5Q0t7uMcjvnagumLfvZi/1094515a-b080-4282-aac7-b1b8a553a3a8.mp3', settings=None), Voice(voice_id='AZnzlk1XvdvUeBnXmlld', name='Domi', category='premade', description=None, labels={'accent': 'american', 'description': 'strong', 'age': 'young', 'gender': 'female', 'use case': 'narration'}, samples=None, design=None, preview_url='https://storage.googleapis.com/eleven-public-prod/premade/voices/AZnzlk1XvdvUeBnXmlld/508e12d0-a7f7-4d86-a0d3-f3884ff353ed.mp3', settings=None), Voice(voice_id='CYw3kZ02Hs0563khs1Fj', name='Dave', category='premade', description=None, labels={'accent': 'british-essex', 'description': 'conversational', 'age': 'young', 'gender': 'male', 'use case': 'video games'}, samples=None, design=None, preview_url='https://storage.googleapis.com/eleven-public-prod/premade/voices/CYw3kZ02Hs0563khs1Fj/872cb056-45d3-419e-b5c6-de2b387a93a0.mp3', settings=None), Voice(voice_id='D38z5RcWu1voky8WS1ja', name='Fin', category='premade', description=None, labels={'accent': 'irish', 'description': 'sailor', 'age': 'old', 'gender': 'male', 'use case': 'video games'}, samples=None, design=None, preview_url='https://storage.googleapis.com/eleven-public-prod/premade/voices/D38z5RcWu1voky8WS1ja/a470ba64-1e72-46d9-ba9d-030c4155e2d2.mp3', settings=None), Voice(voice_id='EXAVITQu4vr4xnSDxMaL', name='Sarah', category='premade', description=None, labels={'accent': 'american', 'description': 'soft', 'age': 'young', 'gender': 'female', 'use case': 'news'}, samples=None, design=None, preview_url='https://storage.googleapis.com/eleven-public-prod/premade/voices/EXAVITQu4vr4xnSDxMaL/6851ec91-9950-471f-8586-357c52539069.mp3', settings=None), Voice(voice_id='ErXwobaYiN019PkySvjV', name='Antoni', category='premade', description=None, labels={'accent': 'american', 'description': 'well-rounded', 'age': 'young', 'gender': 'male', 'use case': 'narration'}, samples=None, design=None, preview_url='https://storage.googleapis.com/eleven-public-prod/premade/voices/ErXwobaYiN019PkySvjV/ee9ac367-91ee-4a56-818a-2bd1a9dbe83a.mp3', settings=None), Voice(voice_id='GBv7mTt0atIp3Br8iCZE', name='Thomas', category='premade', description=None, labels={'accent': 'american', 'description': 'calm', 'age': 'young', 'gender': 'male', 'use case': 'meditation'}, samples=None, design=None, preview_url='https://storage.googleapis.com/eleven-public-prod/premade/voices/GBv7mTt0atIp3Br8iCZE/98542988-5267-4148-9a9e-baa8c4f14644.mp3', settings=None), Voice(voice_id='IKne3meq5aSn9XLyUdCD', name='Charlie', category='premade', description=None, labels={'accent': 'australian', 'description': 'casual', 'age': 'middle aged', 'gender': 'male', 'use case': 'conversational'}, samples=None, design=None, preview_url='https://storage.googleapis.com/eleven-public-prod/premade/voices/IKne3meq5aSn9XLyUdCD/102de6f2-22ed-43e0-a1f1-111fa75c5481.mp3', settings=None), Voice(voice_id='JBFqnCBsd6RMkjVDRZzb', name='George', category='premade', description=None, labels={'accent': 'british', 'description': 'raspy', 'age': 'middle aged', 'gender': 'male', 'use case': 'narration'}, samples=None, design=None, preview_url='https://storage.googleapis.com/eleven-public-prod/premade/voices/JBFqnCBsd6RMkjVDRZzb/365e8ae8-5364-4b07-9a3b-1bfb4a390248.mp3', settings=None), Voice(voice_id='LcfcDJNUP1GQjkzn1xUU', name='Emily', category='premade', description=None, labels={'accent': 'american', 'description': 'calm', 'age': 'young', 'gender': 'female', 'use case': 'meditation'}, samples=None, design=None, preview_url='https://storage.googleapis.com/eleven-public-prod/premade/voices/LcfcDJNUP1GQjkzn1xUU/e4b994b7-9713-4238-84f3-add8fccaaccd.mp3', settings=None), Voice(voice_id='MF3mGyEYCl7XYWbV9V6O', name='Elli', category='premade', description=None, labels={'accent': 'american', 'description': 'emotional', 'age': 'young', 'gender': 'female', 'use case': 'narration'}, samples=None, design=None, preview_url='https://storage.googleapis.com/eleven-public-prod/premade/voices/MF3mGyEYCl7XYWbV9V6O/d8ecadea-9e48-4e5d-868a-2ec3d7397861.mp3', settings=None), Voice(voice_id='N2lVS1w4EtoT3dr4eOWO', name='Callum', category='premade', description=None, labels={'accent': 'american', 'description': 'hoarse', 'age': 'middle aged', 'gender': 'male', 'use case': 'video games'}, samples=None, design=None, preview_url='https://storage.googleapis.com/eleven-public-prod/premade/voices/N2lVS1w4EtoT3dr4eOWO/ac833bd8-ffda-4938-9ebc-b0f99ca25481.mp3', settings=None), Voice(voice_id='ODq5zmih8GrVes37Dizd', name='Patrick', category='premade', description=None, labels={'accent': 'american', 'description': 'shouty', 'age': 'middle aged', 'gender': 'male', 'use case': 'video games'}, samples=None, design=None, preview_url='https://storage.googleapis.com/eleven-public-prod/premade/voices/ODq5zmih8GrVes37Dizd/0ebec87a-2569-4976-9ea5-0170854411a9.mp3', settings=None), Voice(voice_id='SOYHLrjzK2X1ezoPC6cr', name='Harry', category='premade', description=None, labels={'accent': 'american', 'description': 'anxious', 'age': 'young', 'gender': 'male', 'use case': 'video games'}, samples=None, design=None, preview_url='https://storage.googleapis.com/eleven-public-prod/premade/voices/SOYHLrjzK2X1ezoPC6cr/86d178f6-f4b6-4e0e-85be-3de19f490794.mp3', settings=None), Voice(voice_id='TX3LPaxmHKxFdv7VOQHJ', name='Liam', category='premade', description=None, labels={'accent': 'american', 'age': 'young', 'gender': 'male', 'use case': 'narration', 'description ': 'neutral'}, samples=None, design=None, preview_url='https://storage.googleapis.com/eleven-public-prod/premade/voices/TX3LPaxmHKxFdv7VOQHJ/63148076-6363-42db-aea8-31424308b92c.mp3', settings=None), Voice(voice_id='ThT5KcBeYPX3keUQqHPh', name='Dorothy', category='premade', description=None, labels={'accent': 'british', 'description': 'pleasant', 'age': 'young', 'gender': 'female', 'use case': \"children's stories\"}, samples=None, design=None, preview_url='https://storage.googleapis.com/eleven-public-prod/premade/voices/ThT5KcBeYPX3keUQqHPh/981f0855-6598-48d2-9f8f-b6d92fbbe3fc.mp3', settings=None), Voice(voice_id='TxGEqnHWrfWFTfGW9XjX', name='Josh', category='premade', description=None, labels={'accent': 'american', 'description': 'deep', 'age': 'young', 'gender': 'male', 'use case': 'narration'}, samples=None, design=None, preview_url='https://storage.googleapis.com/eleven-public-prod/premade/voices/TxGEqnHWrfWFTfGW9XjX/3ae2fc71-d5f9-4769-bb71-2a43633cd186.mp3', settings=None), Voice(voice_id='VR6AewLTigWG4xSOukaG', name='Arnold', category='premade', description=None, labels={'accent': 'american', 'description': 'crisp', 'age': 'middle aged', 'gender': 'male', 'use case': 'narration'}, samples=None, design=None, preview_url='https://storage.googleapis.com/eleven-public-prod/premade/voices/VR6AewLTigWG4xSOukaG/316050b7-c4e0-48de-acf9-a882bb7fc43b.mp3', settings=None), Voice(voice_id='XB0fDUnXU5powFXDhCwa', name='Charlotte', category='premade', description=None, labels={'accent': 'english-swedish', 'description': 'seductive', 'age': 'middle aged', 'gender': 'female', 'use case': 'video games'}, samples=None, design=None, preview_url='https://storage.googleapis.com/eleven-public-prod/premade/voices/XB0fDUnXU5powFXDhCwa/942356dc-f10d-4d89-bda5-4f8505ee038b.mp3', settings=None), Voice(voice_id='XrExE9yKIg1WjnnlVkGX', name='Matilda', category='premade', description=None, labels={'accent': 'american', 'description': 'warm', 'age': 'young', 'gender': 'female', 'use case': 'audiobook'}, samples=None, design=None, preview_url='https://storage.googleapis.com/eleven-public-prod/premade/voices/XrExE9yKIg1WjnnlVkGX/b930e18d-6b4d-466e-bab2-0ae97c6d8535.mp3', settings=None), Voice(voice_id='Yko7PKHZNXotIFUBG7I9', name='Matthew', category='premade', description=None, labels={'accent': 'british', 'age': 'middle aged', 'gender': 'male', 'use case': 'audiobook', 'description ': 'calm'}, samples=None, design=None, preview_url='https://storage.googleapis.com/eleven-public-prod/premade/voices/Yko7PKHZNXotIFUBG7I9/02c66c93-a237-436f-8a7d-43e8c49bc6a3.mp3', settings=None), Voice(voice_id='ZQe5CZNOzWyzPSCn5a3c', name='James', category='premade', description=None, labels={'accent': 'australian', 'description': 'calm ', 'age': 'old', 'gender': 'male', 'use case': 'news'}, samples=None, design=None, preview_url='https://storage.googleapis.com/eleven-public-prod/premade/voices/ZQe5CZNOzWyzPSCn5a3c/35734112-7b72-48df-bc2f-64d5ab2f791b.mp3', settings=None), Voice(voice_id='Zlb1dXrM653N07WRdFW3', name='Joseph', category='premade', description=None, labels={'accent': 'british', 'age': 'middle aged', 'gender': 'male', 'use case': 'news', 'description ': 'ground reporter '}, samples=None, design=None, preview_url='https://storage.googleapis.com/eleven-public-prod/premade/voices/Zlb1dXrM653N07WRdFW3/daa22039-8b09-4c65-b59f-c79c48646a72.mp3', settings=None), Voice(voice_id='bVMeCyTHy58xNoL34h3p', name='Jeremy', category='premade', description=None, labels={'accent': 'american-irish', 'description': 'excited', 'age': 'young', 'gender': 'male', 'use case': 'narration'}, samples=None, design=None, preview_url='https://storage.googleapis.com/eleven-public-prod/premade/voices/bVMeCyTHy58xNoL34h3p/66c47d58-26fd-4b30-8a06-07952116a72c.mp3', settings=None), Voice(voice_id='flq6f7yk4E4fJM5XTYuZ', name='Michael', category='premade', description=None, labels={'accent': 'american', 'age': 'old', 'gender': 'male', 'use case': 'audiobook', 'description ': 'orotund'}, samples=None, design=None, preview_url='https://storage.googleapis.com/eleven-public-prod/premade/voices/flq6f7yk4E4fJM5XTYuZ/c6431a82-f7d2-4905-b8a4-a631960633d6.mp3', settings=None), Voice(voice_id='g5CIjZEefAph4nQFvHAz', name='Ethan', category='premade', description=None, labels={'accent': 'american', 'age': 'young', 'gender': 'male', 'use case': 'ASMR', 'description ': 'whisper'}, samples=None, design=None, preview_url='https://storage.googleapis.com/eleven-public-prod/premade/voices/g5CIjZEefAph4nQFvHAz/26acfa99-fdec-43b8-b2ee-e49e75a3ac16.mp3', settings=None), Voice(voice_id='jBpfuIE2acCO8z3wKNLl', name='Gigi', category='premade', description=None, labels={'accent': 'american', 'description': 'childlish', 'age': 'young', 'gender': 'female', 'use case': 'animation'}, samples=None, design=None, preview_url='https://storage.googleapis.com/eleven-public-prod/premade/voices/jBpfuIE2acCO8z3wKNLl/3a7e4339-78fa-404e-8d10-c3ef5587935b.mp3', settings=None), Voice(voice_id='jsCqWAovK2LkecY7zXl4', name='Freya', category='premade', description=None, labels={'accent': 'american', 'age': 'young', 'gender': 'female', 'description ': 'overhyped', 'usecase': 'video games'}, samples=None, design=None, preview_url='https://storage.googleapis.com/eleven-public-prod/premade/voices/jsCqWAovK2LkecY7zXl4/8e1f5240-556e-4fd5-892c-25df9ea3b593.mp3', settings=None), Voice(voice_id='knrPHWnBmmDHMoiMeP3l', name='🎅 Santa Claus', category='premade', description=None, labels={'age': 'old', 'gender': 'male', 'use case': 'christmas'}, samples=None, design=None, preview_url='https://storage.googleapis.com/eleven-public-prod/premade/voices/knrPHWnBmmDHMoiMeP3l/6b454051-3ec2-4a6d-aa2f-1bda2d8c93ea.mp3', settings=None), Voice(voice_id='oWAxZDx7w5VEj9dCyTzz', name='Grace', category='premade', description=None, labels={'accent': 'american-southern', 'age': 'young', 'gender': 'female', 'use case': 'audiobook ', 'description ': 'gentle'}, samples=None, design=None, preview_url='https://storage.googleapis.com/eleven-public-prod/premade/voices/oWAxZDx7w5VEj9dCyTzz/84a36d1c-e182-41a8-8c55-dbdd15cd6e72.mp3', settings=None), Voice(voice_id='onwK4e9ZLuTAKqWW03F9', name='Daniel', category='premade', description=None, labels={'accent': 'british', 'description': 'deep', 'age': 'middle aged', 'gender': 'male', 'use case': 'news presenter'}, samples=None, design=None, preview_url='https://storage.googleapis.com/eleven-public-prod/premade/voices/onwK4e9ZLuTAKqWW03F9/7eee0236-1a72-4b86-b303-5dcadc007ba9.mp3', settings=None), Voice(voice_id='pFZP5JQG7iQjIQuC4Bku', name='Lily', category='premade', description=None, labels={'accent': 'british', 'description': 'raspy', 'age': 'middle aged', 'gender': 'female', 'use case': 'narration'}, samples=None, design=None, preview_url='https://storage.googleapis.com/eleven-public-prod/premade/voices/pFZP5JQG7iQjIQuC4Bku/0ab8bd74-fcd2-489d-b70a-3e1bcde8c999.mp3', settings=None), Voice(voice_id='pMsXgVXv3BLzUgSXRplE', name='Serena', category='premade', description=None, labels={'accent': 'american', 'description': 'pleasant', 'age': 'middle aged', 'gender': 'female', 'use case': 'interactive'}, samples=None, design=None, preview_url='https://storage.googleapis.com/eleven-public-prod/premade/voices/pMsXgVXv3BLzUgSXRplE/d61f18ed-e5b0-4d0b-a33c-5c6e7e33b053.mp3', settings=None), Voice(voice_id='pNInz6obpgDQGcFmaJgB', name='Adam', category='premade', description=None, labels={'accent': 'american', 'description': 'deep', 'age': 'middle aged', 'gender': 'male', 'use case': 'narration'}, samples=None, design=None, preview_url='https://storage.googleapis.com/eleven-public-prod/premade/voices/pNInz6obpgDQGcFmaJgB/38a69695-2ca9-4b9e-b9ec-f07ced494a58.mp3', settings=None), Voice(voice_id='piTKgcLEGmPE4e6mEKli', name='Nicole', category='premade', description=None, labels={'accent': 'american', 'description': 'whisper', 'age': 'young', 'gender': 'female', 'use case': 'audiobook'}, samples=None, design=None, preview_url='https://storage.googleapis.com/eleven-public-prod/premade/voices/piTKgcLEGmPE4e6mEKli/c269a54a-e2bc-44d0-bb46-4ed2666d6340.mp3', settings=None), Voice(voice_id='pqHfZKP75CvOlQylNhV4', name='Bill', category='premade', description=None, labels={'accent': 'american', 'description': 'strong', 'age': 'middle aged', 'gender': 'male', 'use case': 'documentary'}, samples=None, design=None, preview_url='https://storage.googleapis.com/eleven-public-prod/premade/voices/pqHfZKP75CvOlQylNhV4/52f0842a-cf81-4715-8cf0-76cfbd77088e.mp3', settings=None), Voice(voice_id='t0jbNlBVZ17f02VDIeMI', name='Jessie', category='premade', description=None, labels={'accent': 'american', 'description': 'raspy ', 'age': 'old', 'gender': 'male', 'use case': 'video games'}, samples=None, design=None, preview_url='https://storage.googleapis.com/eleven-public-prod/premade/voices/t0jbNlBVZ17f02VDIeMI/e26939e3-61a4-4872-a41d-33922cfbdcdc.mp3', settings=None), Voice(voice_id='yoZ06aMxZJJ28mfd3POQ', name='Sam', category='premade', description=None, labels={'accent': 'american', 'description': 'raspy', 'age': 'young', 'gender': 'male', 'use case': 'narration'}, samples=None, design=None, preview_url='https://storage.googleapis.com/eleven-public-prod/premade/voices/yoZ06aMxZJJ28mfd3POQ/ac9d1c91-92ce-4b20-8cc2-3187a7da49ec.mp3', settings=None), Voice(voice_id='z9fAnlkpzviPz146aGWa', name='Glinda', category='premade', description=None, labels={'accent': 'american', 'description': 'witch', 'age': 'middle aged', 'gender': 'female', 'use case': 'video games'}, samples=None, design=None, preview_url='https://storage.googleapis.com/eleven-public-prod/premade/voices/z9fAnlkpzviPz146aGWa/cbc60443-7b61-4ebb-b8e1-5c03237ea01d.mp3', settings=None), Voice(voice_id='zcAOhNBS3c14rBihAFp1', name='Giovanni', category='premade', description=None, labels={'accent': 'english-italian', 'description': 'foreigner', 'age': 'young', 'gender': 'male', 'use case': 'audiobook'}, samples=None, design=None, preview_url='https://storage.googleapis.com/eleven-public-prod/premade/voices/zcAOhNBS3c14rBihAFp1/e7410f8f-4913-4cb8-8907-784abee5aff8.mp3', settings=None), Voice(voice_id='zrHiDhphv9ZnVXBqCLjz', name='Mimi', category='premade', description=None, labels={'accent': 'english-swedish', 'description': 'childish', 'age': 'young', 'gender': 'female', 'use case': 'animation'}, samples=None, design=None, preview_url='https://storage.googleapis.com/eleven-public-prod/premade/voices/zrHiDhphv9ZnVXBqCLjz/decbf20b-0f57-4fac-985b-a4f0290ebfc4.mp3', settings=None)]\n"
          ]
        }
      ]
    },
    {
      "cell_type": "code",
      "source": [
        "from elevenlabs import generate, play,save,Voice, VoiceSettings\n",
        "import csv\n",
        "\n",
        "# Open the CSV file\n",
        "with open (\"labsText.csv\", \"r\") as csvfile:\n",
        "    reader = csv.reader(csvfile)\n",
        "    count=0\n",
        "        # Iterate over the rows in the CSV file\n",
        "    for row in reader:\n",
        "            # Get the query from column A\n",
        "            query = row[0].strip()  # Remove leading/trailing whitespaces\n",
        "\n",
        "            # Check if the query is empty\n",
        "            if not query:\n",
        "                continue  # Skip empty queries\n",
        "\n",
        "            print(query)\n",
        "            count=count+1\n",
        "            # Make a request to ChatGPT\n",
        "\n",
        "            #query =\"What if I told you that the world is going to end soon, and only one person can save it? That person is कल्कि, the final and most powerful avatar of भगवान विष्णु. In this video, I'm going to tell you the amazing story of कल्कि and how he will destroy evil and restore justice in the future.\"\n",
        "\n",
        "\n",
        "            audio = generate (\n",
        "              text=query,\n",
        "              model=\"eleven_multilingual_v2\",\n",
        "              voice=Voice(\n",
        "                    voice_id='iMzYxjYBuZRxgLjOrDAW',\n",
        "                    settings=VoiceSettings(stability=0.50, similarity_boost=0.75, style=0.0, use_speaker_boost=True)\n",
        "                )\n",
        "            )\n",
        "\n",
        "            savefile = \"Kalki1_ \"+str(count)+\".wav\"\n",
        "\n",
        "            save(audio,savefile)\n",
        "\n",
        "# Close the CSV files\n",
        "csvfile.close()\n",
        "\n"
      ],
      "metadata": {
        "id": "tuDgGVCG7cUA",
        "colab": {
          "base_uri": "https://localhost:8080/"
        },
        "outputId": "ec9335bd-0e6d-4e8f-867c-42df31265d5a"
      },
      "execution_count": null,
      "outputs": [
        {
          "output_type": "stream",
          "name": "stdout",
          "text": [
            "In this video, I'm going to tell you the amazing story of ????? and how he will destroy evil and restore justice in the future.\n"
          ]
        }
      ]
    }
  ]
}